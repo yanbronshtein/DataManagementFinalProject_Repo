{
 "cells": [
  {
   "cell_type": "code",
   "execution_count": 1,
   "metadata": {},
   "outputs": [
    {
     "name": "stdout",
     "output_type": "stream",
     "text": [
      "Collecting redis\n",
      "  Downloading redis-3.5.3-py2.py3-none-any.whl (72 kB)\n",
      "\u001b[K     |████████████████████████████████| 72 kB 1.6 MB/s eta 0:00:011\n",
      "\u001b[?25hInstalling collected packages: redis\n",
      "Successfully installed redis-3.5.3\n"
     ]
    }
   ],
   "source": [
    "# install redis\n",
    "!pip install redis"
   ]
  },
  {
   "cell_type": "code",
   "execution_count": 2,
   "metadata": {},
   "outputs": [
    {
     "name": "stdout",
     "output_type": "stream",
     "text": [
      "world\n"
     ]
    }
   ],
   "source": [
    "# import redis and create connection\n",
    "\n",
    "import redis\n",
    "r = redis.Redis(host='redis-12358.c262.us-east-1-3.ec2.cloud.redislabs.com', port=12358, \n",
    "                password='datamanagement')\n",
    "r.set('hello', 'world')\n",
    "print(r.get('hello').decode('UTF-8'))\n",
    "# returns b'world because returning in form of bytes; decode transforms to regular string"
   ]
  },
  {
   "cell_type": "code",
   "execution_count": 3,
   "metadata": {},
   "outputs": [],
   "source": [
    "import json\n",
    "samplelist = ['username', 'user id', 'count1', 'count2']\n",
    "data = json.dumps({'user info' : samplelist})"
   ]
  },
  {
   "cell_type": "code",
   "execution_count": 4,
   "metadata": {},
   "outputs": [
    {
     "data": {
      "text/plain": [
       "True"
      ]
     },
     "execution_count": 4,
     "metadata": {},
     "output_type": "execute_result"
    }
   ],
   "source": [
    "r.setex(\n",
    "    'sample',\n",
    "    60*60, # time to store data\n",
    "    data\n",
    ")\n"
   ]
  },
  {
   "cell_type": "code",
   "execution_count": 8,
   "metadata": {},
   "outputs": [
    {
     "name": "stdout",
     "output_type": "stream",
     "text": [
      "{\"user info\": [\"username\", \"user id\", \"count1\", \"count2\"]}\n",
      "b'{\"user info\": [\"username\", \"user id\", \"count1\", \"count2\"]}'\n"
     ]
    }
   ],
   "source": [
    "print(r.get('sample').decode('UTF-8'))\n",
    "print(r.get('sample'))"
   ]
  },
  {
   "cell_type": "code",
   "execution_count": null,
   "metadata": {},
   "outputs": [],
   "source": []
  }
 ],
 "metadata": {
  "kernelspec": {
   "display_name": "Python 3",
   "language": "python",
   "name": "python3"
  },
  "language_info": {
   "codemirror_mode": {
    "name": "ipython",
    "version": 3
   },
   "file_extension": ".py",
   "mimetype": "text/x-python",
   "name": "python",
   "nbconvert_exporter": "python",
   "pygments_lexer": "ipython3",
   "version": "3.7.6"
  }
 },
 "nbformat": 4,
 "nbformat_minor": 4
}
